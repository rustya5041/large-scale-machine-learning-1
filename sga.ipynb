{
 "cells": [
  {
   "cell_type": "markdown",
   "id": "4f532cdd-9e23-46c9-aa20-9b4dcd63fd61",
   "metadata": {
    "tags": []
   },
   "source": [
    "# User routes on the site\n",
    "## Description\n",
    "**Clickstream** is a sequence of user actions on a website. It allows you to understand how users interact with the site. In this task, you need to find the most frequent custom routes.\n",
    "\n",
    "## Input data\n",
    "Input data is а table with clickstream data in file `hdfs:/data/clickstream.csv`.\n",
    "\n",
    "### Table structure\n",
    "* `user_id (int)` - Unique user identifier.\n",
    "* `session_id (int)` - Unique identifier for the user session. The user's session lasts until the identifier changes.\n",
    "* `event_type (string)` - Event type from the list:\n",
    "    * **page** - visit to the page\n",
    "    * **event** - any action on the page\n",
    "    * <b>&lt;custom&gt;</b> - string with any other type\n",
    "* `event_type (string)` - Page on the site.\n",
    "* `timestamp (int)` - Unix-timestamp of action.\n",
    "\n",
    "### Browser errors\n",
    "Errors can sometimes occur in the user's browser - after such an error appears, we can no longer trust the data of this session and all the following lines after the error or at the same time with it are considered corrupted and **should not be counted** in statistics.\n",
    "\n",
    "When an error occurs on the page, a random string containing the word **error** will be written to the `event_type` field.\n",
    "\n",
    "### Sample of user session\n",
    "<pre>\n",
    "+-------+----------+------------+----------+----------+\n",
    "|user_id|session_id|  event_type|event_page| timestamp|\n",
    "+-------+----------+------------+----------+----------+\n",
    "|    562|       507|        page|      main|1620494781|\n",
    "|    562|       507|       event|      main|1620494788|\n",
    "|    562|       507|       event|      main|1620494798|\n",
    "|    562|       507|        page|    family|1620494820|\n",
    "|    562|       507|       event|    family|1620494828|\n",
    "|    562|       507|        page|      main|1620494848|\n",
    "|    562|       507|wNaxLlerrorU|      main|1620494865|\n",
    "|    562|       507|       event|      main|1620494873|\n",
    "|    562|       507|        page|      news|1620494875|\n",
    "|    562|       507|        page|   tariffs|1620494876|\n",
    "|    562|       507|       event|   tariffs|1620494884|\n",
    "|    562|       514|        page|      main|1620728918|\n",
    "|    562|       514|       event|      main|1620729174|\n",
    "|    562|       514|        page|   archive|1620729674|\n",
    "|    562|       514|        page|     bonus|1620729797|\n",
    "|    562|       514|        page|   tariffs|1620731090|\n",
    "|    562|       514|       event|   tariffs|1620731187|\n",
    "+-------+----------+------------+----------+----------+\n",
    "</pre>\n",
    "\n",
    "#### Correct user routes for a given user:\n",
    "* **Session 507**: main-family-main\n",
    "* **Session 514**: main-archive-bonus-tariffs\n",
    "\n",
    "Route elements are ordered by the time they appear in the clickstream, from earliest to latest.\n",
    "\n",
    "The route must be accounted for completely before the end of the session or an error in the session.\n",
    "\n",
    "## Task\n",
    "You need to use the Spark SQL, Spark RDD and Spark DF interfaces to create a solution file, the lines of which contain **the 30 most frequent user routes** on the site.\n",
    "\n",
    "Each line of the file should contain the `route` and `count` values **separated by tabs**, where:\n",
    "* `route` - route on the site, consisting of pages separated by \"-\".\n",
    "* `count` - the number of user sessions in which this route was.\n",
    "\n",
    "The lines must be **ordered in descending order** of the `count` field.\n",
    "\n",
    "## Criteria\n",
    "You can get maximum of 3.5 points (final grade) for this assignment, depedning on the number of interface you manage to leverage. The criteria are as follows:\n",
    "\n",
    "* 0.5 points – Spark SQL solution with 1 query\n",
    "* 0.5 points – Spark SQL solution with <=2 queries\n",
    "* 0.5 points – Spark RDD solution\n",
    "* 0.5 points – Spark DF solution\n",
    "* 0.5 points – your solution algorithm is relatively optimized, i.e.: no O^2 or O^3 complexities; appropriate object usage; no data leaks etc. This is evaluated by staff.\n",
    "* 1 point – 1 on 1 screening session. During this session staff member can ask you questions regarding your solution logic, framework usage, questionable parts of your code etc. If your code is clean enough, the staff member can just ask you to solve a theoretical problem connected to Spark.\n"
   ]
  },
  {
   "cell_type": "code",
   "execution_count": 2,
   "id": "719ecb51-c2f1-4a34-8591-ddec74630593",
   "metadata": {
    "tags": []
   },
   "outputs": [
    {
     "name": "stderr",
     "output_type": "stream",
     "text": [
      "Setting default log level to \"WARN\".\n",
      "To adjust logging level use sc.setLogLevel(newLevel). For SparkR, use setLogLevel(newLevel).\n",
      "2024-01-21 11:26:52,132 WARN yarn.Client: Neither spark.yarn.jars nor spark.yarn.archive is set, falling back to uploading libraries under SPARK_HOME.\n"
     ]
    }
   ],
   "source": [
    "import findspark\n",
    "findspark.init()\n",
    "\n",
    "from pyspark import SparkContext\n",
    "sc = SparkContext(appName='sga')\n",
    "\n",
    "from pyspark.sql import SparkSession, Row\n",
    "spark = SparkSession(sc)"
   ]
  },
  {
   "cell_type": "code",
   "execution_count": 3,
   "id": "7cb794f8-9f7a-4314-acaa-e2e245f88c22",
   "metadata": {
    "tags": []
   },
   "outputs": [],
   "source": [
    "import pyspark.sql.functions as f\n",
    "from pyspark.sql.window import Window"
   ]
  },
  {
   "cell_type": "code",
   "execution_count": 244,
   "id": "ad1e4bee-8d44-4944-ab5a-afb3b3a55dd1",
   "metadata": {
    "tags": []
   },
   "outputs": [],
   "source": [
    "clickstream = spark.read.csv('clickstream.csv', header=True, sep='\\t') # for df \n",
    "clickstream.createOrReplaceTempView('clickstream') # for sql"
   ]
  },
  {
   "cell_type": "code",
   "execution_count": 275,
   "id": "7fbee417-797f-44d3-983a-fcef9345f800",
   "metadata": {
    "tags": []
   },
   "outputs": [
    {
     "data": {
      "text/markdown": [
       "# DF solution\n"
      ],
      "text/plain": [
       "<IPython.core.display.Markdown object>"
      ]
     },
     "metadata": {},
     "output_type": "display_data"
    }
   ],
   "source": [
    "%%markdown\n",
    "# DF solution"
   ]
  },
  {
   "cell_type": "code",
   "execution_count": 291,
   "id": "74b1acc6-e849-4b93-877d-89c73e6be618",
   "metadata": {
    "tags": []
   },
   "outputs": [
    {
     "name": "stderr",
     "output_type": "stream",
     "text": [
      "[Stage 1059:======================================>               (10 + 2) / 14]\r"
     ]
    },
    {
     "name": "stdout",
     "output_type": "stream",
     "text": [
      "+--------------------+-----+\n",
      "|               route|count|\n",
      "+--------------------+-----+\n",
      "|                main| 8184|\n",
      "|        main-archive| 1113|\n",
      "|         main-rabota| 1047|\n",
      "|       main-internet|  897|\n",
      "|          main-bonus|  870|\n",
      "|           main-news|  769|\n",
      "|        main-tariffs|  677|\n",
      "|         main-online|  587|\n",
      "|          main-vklad|  518|\n",
      "| main-rabota-archive|  170|\n",
      "| main-archive-rabota|  167|\n",
      "|  main-bonus-archive|  143|\n",
      "|   main-rabota-bonus|  139|\n",
      "|   main-bonus-rabota|  135|\n",
      "|    main-news-rabota|  135|\n",
      "|main-archive-inte...|  132|\n",
      "|    main-rabota-news|  130|\n",
      "|main-internet-rabota|  129|\n",
      "|   main-archive-news|  126|\n",
      "|main-rabota-internet|  124|\n",
      "|main-internet-arc...|  123|\n",
      "|  main-archive-bonus|  117|\n",
      "| main-internet-bonus|  115|\n",
      "|main-tariffs-inte...|  114|\n",
      "|   main-news-archive|  113|\n",
      "|  main-news-internet|  109|\n",
      "|main-archive-tariffs|  104|\n",
      "|  main-internet-news|  103|\n",
      "|main-tariffs-archive|  103|\n",
      "|    main-rabota-main|   94|\n",
      "+--------------------+-----+\n",
      "\n"
     ]
    },
    {
     "name": "stderr",
     "output_type": "stream",
     "text": [
      "                                                                                \r"
     ]
    }
   ],
   "source": [
    "# window to check for errors over (and within) different sessions and users\n",
    "event_window = Window.partitionBy(\"user_id\", \"session_id\").orderBy(\"timestamp\")\n",
    "\n",
    "# flagging rows that either contain the 'error' substring or follow the row with the 'error' substring \n",
    "clickstream_w_error_flags = (clickstream\n",
    "                             .withColumn(\"error_flag\", \n",
    "                                         f.max(\n",
    "                                             f.when(f.col(\"event_type\").like(\"%error%\"), 1)\n",
    "                                             .otherwise(0))\n",
    "                                             .over(event_window))\n",
    "                                             )\n",
    "\n",
    "# removing errors\n",
    "filtered_from_errors = clickstream_w_error_flags.filter(f.col('error_flag') != 1)\n",
    "\n",
    "# the only way to collect routes in a parallelized way is via collect_list func.\n",
    "# however, we need to deduplicate cases when consecutive rows contain the same 'event_page' value\n",
    "# this is done because internet -> internet is not a valid click transition and should not be considered\n",
    "filtered_w_dup_flags = (filtered_from_errors\n",
    "              .withColumn(\"to_remove\",\n",
    "                    f.when(f.lag('event_page').over(event_window) == f.col('event_page'), 1)\n",
    "                    .otherwise(0))\n",
    "     )\n",
    "deduplicated = filtered_w_dup_flags.filter(f.col('to_remove') != 1)\n",
    "\n",
    "# creating a string of max route per user and session\n",
    "deduplicated_routes = deduplicated.withColumn('sorted_route', f.concat_ws(\"-\", f.collect_list('event_page').over(event_window)))\n",
    "\n",
    "# finding all max routes per user session\n",
    "max_routes = (deduplicated_routes\n",
    "          .groupby('user_id', 'session_id')\n",
    "          .agg(f.max('sorted_route').alias('route'))\n",
    "         )\n",
    "\n",
    "# finding 30 most frequent routes\n",
    "routes_df = (max_routes\n",
    "                   .groupby('route').agg(f.count('*').alias('count'))\n",
    "                   .orderBy(f.desc('count'))\n",
    "                   .limit(30)\n",
    "                  )\n",
    "\n",
    "routes_df.show(30)"
   ]
  },
  {
   "cell_type": "code",
   "execution_count": 279,
   "id": "4964a692-6975-4add-a181-4f11d459c85e",
   "metadata": {
    "tags": []
   },
   "outputs": [
    {
     "data": {
      "text/markdown": [
       "# SQL solution\n"
      ],
      "text/plain": [
       "<IPython.core.display.Markdown object>"
      ]
     },
     "metadata": {},
     "output_type": "display_data"
    }
   ],
   "source": [
    "%%markdown\n",
    "# SQL solution"
   ]
  },
  {
   "cell_type": "code",
   "execution_count": 290,
   "id": "338f4b2f-e626-4a2a-9f9e-dd92440ff6bc",
   "metadata": {
    "tags": []
   },
   "outputs": [
    {
     "name": "stderr",
     "output_type": "stream",
     "text": [
      "[Stage 1053:======================================>               (10 + 2) / 14]\r"
     ]
    },
    {
     "name": "stdout",
     "output_type": "stream",
     "text": [
      "+--------------------+-----+\n",
      "|               route|count|\n",
      "+--------------------+-----+\n",
      "|                main| 8184|\n",
      "|        main-archive| 1113|\n",
      "|         main-rabota| 1047|\n",
      "|       main-internet|  897|\n",
      "|          main-bonus|  870|\n",
      "|           main-news|  769|\n",
      "|        main-tariffs|  677|\n",
      "|         main-online|  587|\n",
      "|          main-vklad|  518|\n",
      "| main-rabota-archive|  170|\n",
      "| main-archive-rabota|  167|\n",
      "|  main-bonus-archive|  143|\n",
      "|   main-rabota-bonus|  139|\n",
      "|   main-bonus-rabota|  135|\n",
      "|    main-news-rabota|  135|\n",
      "|main-archive-inte...|  132|\n",
      "|    main-rabota-news|  130|\n",
      "|main-internet-rabota|  129|\n",
      "|   main-archive-news|  126|\n",
      "|main-rabota-internet|  124|\n",
      "|main-internet-arc...|  123|\n",
      "|  main-archive-bonus|  117|\n",
      "| main-internet-bonus|  115|\n",
      "|main-tariffs-inte...|  114|\n",
      "|   main-news-archive|  113|\n",
      "|  main-news-internet|  109|\n",
      "|main-archive-tariffs|  104|\n",
      "|  main-internet-news|  103|\n",
      "|main-tariffs-archive|  103|\n",
      "|    main-rabota-main|   94|\n",
      "+--------------------+-----+\n",
      "\n"
     ]
    },
    {
     "name": "stderr",
     "output_type": "stream",
     "text": [
      "                                                                                \r"
     ]
    }
   ],
   "source": [
    "routes_sql = spark.sql(\"\"\"\n",
    "WITH error_free AS (\n",
    "    SELECT \n",
    "        user_id, \n",
    "        session_id, \n",
    "        event_page, \n",
    "        timestamp,\n",
    "        MAX(CASE WHEN event_type LIKE '%error%' THEN 1 ELSE 0 END) OVER (PARTITION BY user_id, session_id ORDER BY timestamp) AS error_flag\n",
    "    FROM \n",
    "        clickstream\n",
    "),\n",
    "\n",
    "duplicate_free AS (\n",
    "    SELECT \n",
    "        user_id, \n",
    "        session_id,\n",
    "        event_page,\n",
    "        timestamp,\n",
    "        CASE WHEN LAG(event_page) OVER (PARTITION BY user_id, session_id ORDER BY timestamp) = event_page THEN 1 ELSE 0 END AS to_remove\n",
    "    FROM \n",
    "        error_free\n",
    "    WHERE\n",
    "        error_flag <> 1\n",
    "),\n",
    "\n",
    "collected_routes AS (\n",
    "    SELECT \n",
    "        user_id, \n",
    "        session_id,\n",
    "        CONCAT_WS('-', COLLECT_LIST(event_page) OVER (PARTITION BY user_id, session_id ORDER BY timestamp)) AS sorted_route\n",
    "    FROM \n",
    "        duplicate_free\n",
    "    WHERE \n",
    "        to_remove = 0\n",
    "    GROUP BY \n",
    "        user_id, session_id, event_page, timestamp\n",
    "),\n",
    "\n",
    "max_routes AS (\n",
    "    SELECT\n",
    "        user_id, \n",
    "        session_id,\n",
    "        MAX(sorted_route) AS max_route\n",
    "    FROM \n",
    "        collected_routes\n",
    "    GROUP BY\n",
    "        user_id, session_id\n",
    ")\n",
    "\n",
    "SELECT \n",
    "    max_route AS route,\n",
    "    COUNT(*) as count\n",
    "FROM \n",
    "    max_routes \n",
    "GROUP BY\n",
    "    max_route\n",
    "ORDER BY \n",
    "    count DESC\n",
    "LIMIT 30\n",
    "\n",
    "\"\"\")\n",
    "\n",
    "routes_sql.show(30)"
   ]
  },
  {
   "cell_type": "code",
   "execution_count": 282,
   "id": "248e1523-8d09-436f-9edf-c461a0eadc4c",
   "metadata": {
    "tags": []
   },
   "outputs": [
    {
     "data": {
      "text/markdown": [
       "# RDD solution\n"
      ],
      "text/plain": [
       "<IPython.core.display.Markdown object>"
      ]
     },
     "metadata": {},
     "output_type": "display_data"
    }
   ],
   "source": [
    "%%markdown\n",
    "# RDD solution"
   ]
  },
  {
   "cell_type": "code",
   "execution_count": 292,
   "id": "0cb9a0e3-e02a-4137-8978-9dad648805d1",
   "metadata": {
    "tags": []
   },
   "outputs": [
    {
     "name": "stderr",
     "output_type": "stream",
     "text": [
      "                                                                                \r"
     ]
    },
    {
     "data": {
      "text/plain": [
       "[('main', 8184),\n",
       " ('main-archive', 1106),\n",
       " ('main-rabota', 1045),\n",
       " ('main-internet', 894),\n",
       " ('main-bonus', 872),\n",
       " ('main-news', 764),\n",
       " ('main-tariffs', 676),\n",
       " ('main-online', 586),\n",
       " ('main-vklad', 514),\n",
       " ('main-rabota-archive', 170),\n",
       " ('main-archive-rabota', 167),\n",
       " ('main-bonus-archive', 142),\n",
       " ('main-rabota-bonus', 140),\n",
       " ('main-news-rabota', 135),\n",
       " ('main-bonus-rabota', 134),\n",
       " ('main-archive-internet', 133),\n",
       " ('main-rabota-news', 129),\n",
       " ('main-internet-rabota', 128),\n",
       " ('main-archive-news', 126),\n",
       " ('main-rabota-internet', 124),\n",
       " ('main-internet-archive', 123),\n",
       " ('main-archive-bonus', 119),\n",
       " ('main-tariffs-internet', 115),\n",
       " ('main-internet-bonus', 114),\n",
       " ('main-news-archive', 113),\n",
       " ('main-news-internet', 109),\n",
       " ('main-internet-news', 103),\n",
       " ('main-tariffs-archive', 103),\n",
       " ('main-archive-tariffs', 103),\n",
       " ('main-rabota-main', 94)]"
      ]
     },
     "execution_count": 292,
     "metadata": {},
     "output_type": "execute_result"
    }
   ],
   "source": [
    "error_sessions = (clickstream\n",
    "                  .rdd\n",
    "                  .filter(lambda row: 'error' in row.event_type)\n",
    "                  .map(lambda row: ((row.user_id, row.session_id), row.timestamp))\n",
    "                  .reduceByKey(lambda x, y: min(x, y)))\n",
    "\n",
    "clickstream_wo_errors = (clickstream\n",
    "                        .rdd\n",
    "                        .map(lambda row: ((row.user_id, row.session_id), row))\n",
    "                        .leftOuterJoin(error_sessions)\n",
    "                        .filter(lambda row: row[1][1] is None or row[1][0].timestamp < row[1][1])\n",
    "                        .map(lambda row: row[1][0]))\n",
    "\n",
    "longest_routes = (clickstream_wo_errors\n",
    "                  .map(lambda row: ((row.user_id, row.session_id), row.event_page))\n",
    "                  .groupByKey()\n",
    "                  .map(lambda row: (row[0], list(row[1]))))\n",
    "\n",
    "\n",
    "def remove_consecutive_duplicates(lst):\n",
    "    return [x for x, y in zip(lst, lst[1:] + [None]) if x != y]\n",
    "\n",
    "longest_routes = longest_routes.map(lambda row: (row[0], '-'.join(remove_consecutive_duplicates(row[1]))))\n",
    "                 \n",
    "routes_rdd = (longest_routes\n",
    "          .map(lambda row: (row[1], 1))\n",
    "          .reduceByKey(lambda x, y: x + y)\n",
    "          .sortBy(lambda row: row[1], ascending=False)\n",
    "          .take(30))\n",
    "\n",
    "routes_rdd"
   ]
  },
  {
   "cell_type": "code",
   "execution_count": 296,
   "id": "f3479c98-b885-4d69-a170-85518f5cd5e5",
   "metadata": {
    "tags": []
   },
   "outputs": [],
   "source": [
    "# writing results\n",
    "\n",
    "# df\n",
    "routes_pd = routes_df.toPandas()\n",
    "routes_pd.to_csv('routes_df.csv', sep='\\t', index=False)\n",
    "\n",
    "# sql\n",
    "routes_pd = routes_sql.toPandas()\n",
    "routes_pd.to_csv('routes_sql.csv', sep='\\t', index=False)\n",
    "\n",
    "# rdd\n",
    "with open('routes_rdd.csv', 'w') as f:\n",
    "    f.write(f'route\\tcount\\n')\n",
    "    for route, count in routes:\n",
    "        f.write(f'{route}\\t{count}\\n')"
   ]
  },
  {
   "cell_type": "code",
   "execution_count": null,
   "id": "a8a775aa-bd9e-49d9-aae9-5dd5fac7d132",
   "metadata": {},
   "outputs": [],
   "source": [
    "spark.stop()"
   ]
  }
 ],
 "metadata": {
  "kernelspec": {
   "display_name": "Python 3 (ipykernel)",
   "language": "python",
   "name": "python3"
  },
  "language_info": {
   "codemirror_mode": {
    "name": "ipython",
    "version": 3
   },
   "file_extension": ".py",
   "mimetype": "text/x-python",
   "name": "python",
   "nbconvert_exporter": "python",
   "pygments_lexer": "ipython3",
   "version": "3.10.9"
  }
 },
 "nbformat": 4,
 "nbformat_minor": 5
}
